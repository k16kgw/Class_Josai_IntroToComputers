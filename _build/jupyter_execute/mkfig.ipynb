{
 "cells": [
  {
   "cell_type": "code",
   "execution_count": 1,
   "id": "cb8019d4",
   "metadata": {},
   "outputs": [
    {
     "ename": "ModuleNotFoundError",
     "evalue": "No module named 'numpy'",
     "output_type": "error",
     "traceback": [
      "\u001b[31m---------------------------------------------------------------------------\u001b[39m",
      "\u001b[31mModuleNotFoundError\u001b[39m                       Traceback (most recent call last)",
      "\u001b[36mCell\u001b[39m\u001b[36m \u001b[39m\u001b[32mIn[1]\u001b[39m\u001b[32m, line 1\u001b[39m\n\u001b[32m----> \u001b[39m\u001b[32m1\u001b[39m \u001b[38;5;28;01mimport\u001b[39;00m\u001b[38;5;250m \u001b[39m\u001b[34;01mnumpy\u001b[39;00m\u001b[38;5;250m \u001b[39m\u001b[38;5;28;01mas\u001b[39;00m\u001b[38;5;250m \u001b[39m\u001b[34;01mnp\u001b[39;00m\n\u001b[32m      2\u001b[39m \u001b[38;5;28;01mimport\u001b[39;00m\u001b[38;5;250m \u001b[39m\u001b[34;01mmatplotlib\u001b[39;00m\u001b[34;01m.\u001b[39;00m\u001b[34;01mpyplot\u001b[39;00m\u001b[38;5;250m \u001b[39m\u001b[38;5;28;01mas\u001b[39;00m\u001b[38;5;250m \u001b[39m\u001b[34;01mplt\u001b[39;00m\n\u001b[32m      3\u001b[39m \u001b[38;5;28;01mfrom\u001b[39;00m\u001b[38;5;250m \u001b[39m\u001b[34;01mmatplotlib\u001b[39;00m\u001b[38;5;250m \u001b[39m\u001b[38;5;28;01mimport\u001b[39;00m rcParams\n",
      "\u001b[31mModuleNotFoundError\u001b[39m: No module named 'numpy'"
     ]
    }
   ],
   "source": [
    "import numpy as np\n",
    "import matplotlib.pyplot as plt\n",
    "from matplotlib import rcParams\n",
    "\n",
    "# ==== 日本語フォント設定 ====\n",
    "# OSによって異なります。ここではIPAexゴシックを例示\n",
    "# Windows: \"MS Gothic\" など\n",
    "# macOS:   \"Hiragino Sans\" など\n",
    "# rcParams['font.family'] = 'IPAexGothic'  # 適宜ご利用環境の日本語フォント名に変更してください\n",
    "rcParams['font.family'] = 'Hiragino Sans'  # 適宜ご利用環境の日本語フォント名に変更してください\n",
    "\n",
    "# ==== データ生成 ====\n",
    "t = np.linspace(0, 4*np.pi, 500)      # 時間軸\n",
    "analog = np.sin(t) + 1               # 振幅0〜2にするため +1\n",
    "digital = np.where(analog >= 1, 2, 0) # 1以上なら2、1未満なら0\n",
    "\n",
    "# ==== プロット ====\n",
    "plt.figure(figsize=(10, 6))\n",
    "\n",
    "# アナログ信号\n",
    "plt.plot(t, analog, label='アナログ信号', color='blue')\n",
    "\n",
    "# デジタル信号（階段状のステップとして表示）\n",
    "plt.step(t, digital, where='mid', label='デジタル信号', color='red')\n",
    "\n",
    "# 軸ラベル・タイトル\n",
    "plt.xlabel('時間 [s]')\n",
    "plt.ylabel('振幅')\n",
    "plt.title('アナログ信号とデジタル信号の比較')\n",
    "\n",
    "# グリッド・凡例\n",
    "plt.grid(True)\n",
    "plt.legend()\n",
    "\n",
    "plt.show()\n"
   ]
  },
  {
   "cell_type": "code",
   "execution_count": null,
   "id": "cb8ee237",
   "metadata": {},
   "outputs": [],
   "source": []
  }
 ],
 "metadata": {
  "kernelspec": {
   "display_name": "Python 3",
   "language": "python",
   "name": "python3"
  },
  "language_info": {
   "codemirror_mode": {
    "name": "ipython",
    "version": 3
   },
   "file_extension": ".py",
   "mimetype": "text/x-python",
   "name": "python",
   "nbconvert_exporter": "python",
   "pygments_lexer": "ipython3",
   "version": "3.13.2"
  }
 },
 "nbformat": 4,
 "nbformat_minor": 5
}